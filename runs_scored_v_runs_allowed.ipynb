{
 "cells": [
  {
   "cell_type": "code",
   "execution_count": 5,
   "metadata": {},
   "outputs": [
    {
     "name": "stdout",
     "output_type": "stream",
     "text": [
      "from offensive stats\n",
      "[<Offensive_Stats 1>, <Offensive_Stats 22>, <Offensive_Stats 165>, <Offensive_Stats 283>, <Offensive_Stats 401>, <Offensive_Stats 544>, <Offensive_Stats 662>, <Offensive_Stats 799>, <Offensive_Stats 917>, <Offensive_Stats 943>, <Offensive_Stats 1061>, <Offensive_Stats 1118>, <Offensive_Stats 1168>, <Offensive_Stats 1226>, <Offensive_Stats 1361>, <Offensive_Stats 1387>, <Offensive_Stats 1437>, <Offensive_Stats 1555>, <Offensive_Stats 1612>, <Offensive_Stats 1728>, <Offensive_Stats 1846>, <Offensive_Stats 1982>, <Offensive_Stats 2119>, <Offensive_Stats 2169>, <Offensive_Stats 2305>, <Offensive_Stats 2347>, <Offensive_Stats 2484>, <Offensive_Stats 2505>, <Offensive_Stats 2563>, <Offensive_Stats 2605>]\n",
      "wins\n",
      "from offensive stats\n",
      "[<Offensive_Stats 1>, <Offensive_Stats 22>, <Offensive_Stats 165>, <Offensive_Stats 283>, <Offensive_Stats 401>, <Offensive_Stats 544>, <Offensive_Stats 662>, <Offensive_Stats 799>, <Offensive_Stats 917>, <Offensive_Stats 943>, <Offensive_Stats 1061>, <Offensive_Stats 1118>, <Offensive_Stats 1168>, <Offensive_Stats 1226>, <Offensive_Stats 1361>, <Offensive_Stats 1387>, <Offensive_Stats 1437>, <Offensive_Stats 1555>, <Offensive_Stats 1612>, <Offensive_Stats 1728>, <Offensive_Stats 1846>, <Offensive_Stats 1982>, <Offensive_Stats 2119>, <Offensive_Stats 2169>, <Offensive_Stats 2305>, <Offensive_Stats 2347>, <Offensive_Stats 2484>, <Offensive_Stats 2505>, <Offensive_Stats 2563>, <Offensive_Stats 2605>]\n",
      "runs_scored\n"
     ]
    },
    {
     "data": {
      "text/html": [
       "<script type=\"text/javascript\">window.PlotlyConfig = {MathJaxConfig: 'local'};</script><script type=\"text/javascript\">if (window.MathJax) {MathJax.Hub.Config({SVG: {font: \"STIX-Web\"}});}</script><script>requirejs.config({paths: { 'plotly': ['https://cdn.plot.ly/plotly-latest.min']},});if(!window._Plotly) {require(['plotly'],function(plotly) {window._Plotly=plotly;});}</script>"
      ],
      "text/vnd.plotly.v1+html": [
       "<script type=\"text/javascript\">window.PlotlyConfig = {MathJaxConfig: 'local'};</script><script type=\"text/javascript\">if (window.MathJax) {MathJax.Hub.Config({SVG: {font: \"STIX-Web\"}});}</script><script>requirejs.config({paths: { 'plotly': ['https://cdn.plot.ly/plotly-latest.min']},});if(!window._Plotly) {require(['plotly'],function(plotly) {window._Plotly=plotly;});}</script>"
      ]
     },
     "metadata": {},
     "output_type": "display_data"
    }
   ],
   "source": [
    "from dash_package.console import *\n",
    "from dash_package.plots import *\n",
    "import plotly as plt\n",
    "from plotly.offline import init_notebook_mode, iplot\n",
    "from plotly import tools\n",
    "\n",
    "init_notebook_mode(connected = True)"
   ]
  },
  {
   "cell_type": "code",
   "execution_count": 6,
   "metadata": {},
   "outputs": [],
   "source": [
    "import dash\n",
    "import dash_core_components as dcc\n",
    "import dash_html_components as html\n",
    "import pandas as pd\n",
    "import plotly.graph_objs as go\n",
    "from flask import Flask"
   ]
  },
  {
   "cell_type": "code",
   "execution_count": 7,
   "metadata": {},
   "outputs": [],
   "source": [
    "dsp = DefensiveStats()\n",
    "osp = OffensiveStats()\n",
    "cd = CleanData()"
   ]
  },
  {
   "cell_type": "code",
   "execution_count": 4,
   "metadata": {},
   "outputs": [],
   "source": [
    "runs_scored = osp.getOffensiveStatForEachTeamYear('runs_scored', 2017)\n",
    "#runs_scored"
   ]
  },
  {
   "cell_type": "code",
   "execution_count": 31,
   "metadata": {},
   "outputs": [],
   "source": [
    "runs_allowed = dsp.getDefensiveStatForEachTeamYear('runs_allowed', 2017)\n",
    "#runs_allowed"
   ]
  },
  {
   "cell_type": "code",
   "execution_count": 33,
   "metadata": {},
   "outputs": [
    {
     "data": {
      "text/plain": [
       "['Arizona Diamondbacks', 812, 659]"
      ]
     },
     "execution_count": 33,
     "metadata": {},
     "output_type": "execute_result"
    }
   ],
   "source": [
    "team = [[x[0]]+[x[1]]+[y[1]] for x,y in zip(runs_scored, runs_allowed)]\n",
    "team[0]"
   ]
  },
  {
   "cell_type": "code",
   "execution_count": 38,
   "metadata": {},
   "outputs": [
    {
     "data": {
      "text/plain": [
       "[['Atlanta Braves', 791, 581],\n",
       " ['Baltimore Orioles', 812, 681],\n",
       " ['Boston Red Sox', 851, 857],\n",
       " ['Chicago Cubs', 687, 759],\n",
       " ['Chicago White Sox', 779, 833],\n",
       " ['Cincinnati Reds', 651, 764],\n",
       " ['Cleveland Indians', 868, 815],\n",
       " ['Colorado Rockies', 923, 908],\n",
       " ['Detroit Tigers', 784, 790],\n",
       " ['Houston Astros', 777, 660],\n",
       " ['Kansas City Royals', 747, 820],\n",
       " ['Los Angeles Angels', 829, 794],\n",
       " ['Los Angeles Dodgers', 742, 645],\n",
       " ['Miami Marlins', 740, 669],\n",
       " ['Milwaukee Brewers', 681, 742],\n",
       " ['Minnesota Twins', 772, 861],\n",
       " ['New York Mets', 777, 709],\n",
       " ['New York Yankees', 891, 688],\n",
       " ['Oakland Athletics', 764, 946],\n",
       " ['Philadelphia Phillies', 668, 840],\n",
       " ['Pittsburgh Pirates', 725, 760],\n",
       " ['San Diego Padres', 795, 891],\n",
       " ['San Francisco Giants', 784, 793],\n",
       " ['Seattle Mariners', 925, 833],\n",
       " ['St. Louis Cardinals', 689, 708],\n",
       " ['Texas Rangers', 807, 823],\n",
       " ['Toronto Blue Jays', 654, 694],\n",
       " ['Washington Nationals', 691, 740]]"
      ]
     },
     "execution_count": 38,
     "metadata": {},
     "output_type": "execute_result"
    }
   ],
   "source": [
    "def runs(year):\n",
    "    runs_scored = osp.getOffensiveStatForEachTeamYear('runs_scored', year)\n",
    "    runs_allowed = dsp.getDefensiveStatForEachTeamYear('runs_allowed', year)\n",
    "    runs_list = [[x[0]]+[x[1]]+[y[1]] for x,y in zip(runs_scored, runs_allowed)]\n",
    "    return runs_list\n",
    "test_year = runs(1997)\n",
    "test_year"
   ]
  },
  {
   "cell_type": "code",
   "execution_count": 27,
   "metadata": {},
   "outputs": [
    {
     "data": {
      "text/plain": [
       "{'_sa_instance_state': <sqlalchemy.orm.state.InstanceState at 0x11a461320>,\n",
       " 'avg_age': 27.4,\n",
       " 'batting_avg': 0.257,\n",
       " 'runs_scored': 759,\n",
       " 'year': 2018,\n",
       " 'division': 'East',\n",
       " 'team_id': 2,\n",
       " 'ops': 0.742,\n",
       " 'home_runs': 175,\n",
       " 'wins': 90,\n",
       " 'league': 'NL',\n",
       " 'id': 22}"
      ]
     },
     "execution_count": 27,
     "metadata": {},
     "output_type": "execute_result"
    }
   ],
   "source": [
    "vars(cd.getTeamsOffensiveStatsForYear(2018)[1])"
   ]
  },
  {
   "cell_type": "code",
   "execution_count": 4,
   "metadata": {},
   "outputs": [],
   "source": [
    "#cd.getAllYearsWithValidWSWinner()"
   ]
  },
  {
   "cell_type": "code",
   "execution_count": 3,
   "metadata": {},
   "outputs": [],
   "source": [
    "#team"
   ]
  },
  {
   "cell_type": "code",
   "execution_count": 10,
   "metadata": {},
   "outputs": [
    {
     "data": {
      "text/plain": [
       "sqlalchemy.orm.attributes.InstrumentedAttribute"
      ]
     },
     "execution_count": 10,
     "metadata": {},
     "output_type": "execute_result"
    }
   ],
   "source": [
    "type(Offensive_Stats.year)\n"
   ]
  },
  {
   "cell_type": "code",
   "execution_count": 11,
   "metadata": {},
   "outputs": [],
   "source": [
    "wss = WSScraper()"
   ]
  },
  {
   "cell_type": "code",
   "execution_count": 10,
   "metadata": {},
   "outputs": [],
   "source": [
    "#print(list(wss.ws_years()))"
   ]
  },
  {
   "cell_type": "code",
   "execution_count": 13,
   "metadata": {},
   "outputs": [],
   "source": [
    "wsb = WSStatsBuilder()"
   ]
  },
  {
   "cell_type": "code",
   "execution_count": 14,
   "metadata": {},
   "outputs": [],
   "source": [
    "#print(list(wsb.run()))"
   ]
  },
  {
   "cell_type": "code",
   "execution_count": 30,
   "metadata": {},
   "outputs": [
    {
     "data": {
      "text/plain": [
       "[[['Arizona Diamondbacks', 693],\n",
       "  ['Atlanta Braves', 759],\n",
       "  ['Baltimore Orioles', 622],\n",
       "  ['Boston Red Sox', 876],\n",
       "  ['Chicago Cubs', 761],\n",
       "  ['Chicago White Sox', 656],\n",
       "  ['Cincinnati Reds', 696],\n",
       "  ['Cleveland Indians', 818],\n",
       "  ['Colorado Rockies', 780],\n",
       "  ['Detroit Tigers', 630],\n",
       "  ['Houston Astros', 797],\n",
       "  ['Kansas City Royals', 638],\n",
       "  ['Los Angeles Angels', 721],\n",
       "  ['Los Angeles Dodgers', 804],\n",
       "  ['Miami Marlins', 589],\n",
       "  ['Milwaukee Brewers', 754],\n",
       "  ['Minnesota Twins', 738],\n",
       "  ['New York Mets', 676],\n",
       "  ['New York Yankees', 851],\n",
       "  ['Oakland Athletics', 813],\n",
       "  ['Philadelphia Phillies', 677],\n",
       "  ['Pittsburgh Pirates', 692],\n",
       "  ['San Diego Padres', 617],\n",
       "  ['San Francisco Giants', 603],\n",
       "  ['Seattle Mariners', 677],\n",
       "  ['St. Louis Cardinals', 759],\n",
       "  ['Tampa Bay Rays', 716],\n",
       "  ['Texas Rangers', 737],\n",
       "  ['Toronto Blue Jays', 709],\n",
       "  ['Washington Nationals', 771]],\n",
       " 3]"
      ]
     },
     "execution_count": 30,
     "metadata": {},
     "output_type": "execute_result"
    }
   ],
   "source": [
    "osp.getOffensiveStatForEachTeamYear('runs_scored', 2018)"
   ]
  },
  {
   "cell_type": "raw",
   "metadata": {},
   "source": [
    "osp.getOffensiveStatForEachTeamYear('runs_scored',2018)"
   ]
  },
  {
   "cell_type": "code",
   "execution_count": 9,
   "metadata": {},
   "outputs": [],
   "source": [
    "#session.query(WS_Winners.year).filter(WS_Winners.team_id).order_by(WS_Winners.year).all()"
   ]
  },
  {
   "cell_type": "code",
   "execution_count": 31,
   "metadata": {},
   "outputs": [
    {
     "data": {
      "text/plain": [
       "[[['Arizona Diamondbacks', 693],\n",
       "  ['Atlanta Braves', 759],\n",
       "  ['Baltimore Orioles', 622],\n",
       "  ['Boston Red Sox', 876],\n",
       "  ['Chicago Cubs', 761],\n",
       "  ['Chicago White Sox', 656],\n",
       "  ['Cincinnati Reds', 696],\n",
       "  ['Cleveland Indians', 818],\n",
       "  ['Colorado Rockies', 780],\n",
       "  ['Detroit Tigers', 630],\n",
       "  ['Houston Astros', 797],\n",
       "  ['Kansas City Royals', 638],\n",
       "  ['Los Angeles Angels', 721],\n",
       "  ['Los Angeles Dodgers', 804],\n",
       "  ['Miami Marlins', 589],\n",
       "  ['Milwaukee Brewers', 754],\n",
       "  ['Minnesota Twins', 738],\n",
       "  ['New York Mets', 676],\n",
       "  ['New York Yankees', 851],\n",
       "  ['Oakland Athletics', 813],\n",
       "  ['Philadelphia Phillies', 677],\n",
       "  ['Pittsburgh Pirates', 692],\n",
       "  ['San Diego Padres', 617],\n",
       "  ['San Francisco Giants', 603],\n",
       "  ['Seattle Mariners', 677],\n",
       "  ['St. Louis Cardinals', 759],\n",
       "  ['Tampa Bay Rays', 716],\n",
       "  ['Texas Rangers', 737],\n",
       "  ['Toronto Blue Jays', 709],\n",
       "  ['Washington Nationals', 771]],\n",
       " 3]"
      ]
     },
     "execution_count": 31,
     "metadata": {},
     "output_type": "execute_result"
    }
   ],
   "source": [
    "osp.getOffensiveStatForEachTeamYear('runs_scored',2018)"
   ]
  },
  {
   "cell_type": "code",
   "execution_count": 35,
   "metadata": {},
   "outputs": [
    {
     "data": {
      "text/plain": [
       "[('Wins', 'wins'),\n",
       " ('Average Age', 'avg_age'),\n",
       " ('OPS', 'ops'),\n",
       " ('Home Runs', 'home_runs'),\n",
       " ('Batting Average', 'batting_avg'),\n",
       " ('Runs Scored', 'runs_scored'),\n",
       " ('Losses', 'losses'),\n",
       " ('Runs Allowed', 'runs_allowed'),\n",
       " ('Earned Runs', 'earned_runs'),\n",
       " ('ERA', 'era'),\n",
       " ('Strikeouts', 'strikeouts'),\n",
       " ('Fielding Perenctage', 'field_percent')]"
      ]
     },
     "execution_count": 35,
     "metadata": {},
     "output_type": "execute_result"
    }
   ],
   "source": [
    "offensive_keys = [('Wins', 'wins'), ('Average Age', 'avg_age'), ('OPS', 'ops'), ('Home Runs', 'home_runs'),\n",
    "                ('Batting Average', 'batting_avg'), ('Runs Scored', 'runs_scored')]\n",
    "defensive_keys = [('Losses', 'losses'), ('Runs Allowed', 'runs_allowed'), ('Earned Runs', 'earned_runs'),\n",
    "                ('ERA', 'era'), ('Strikeouts', 'strikeouts'), ('Fielding Perenctage', 'field_percent')]\n",
    "total_keys = offensive_keys + defensive_keys\n",
    "total_keys"
   ]
  },
  {
   "cell_type": "code",
   "execution_count": 140,
   "metadata": {},
   "outputs": [
    {
     "data": {
      "text/plain": [
       "'home_runs'"
      ]
     },
     "execution_count": 140,
     "metadata": {},
     "output_type": "execute_result"
    }
   ],
   "source": [
    "offensive_keys[3][1]"
   ]
  },
  {
   "cell_type": "code",
   "execution_count": 144,
   "metadata": {},
   "outputs": [],
   "source": [
    "off_keys = [x[1] for x in offensive_keys]\n",
    "def_keys = [x[1] for x in defensive_keys]"
   ]
  },
  {
   "cell_type": "code",
   "execution_count": 145,
   "metadata": {},
   "outputs": [
    {
     "name": "stdout",
     "output_type": "stream",
     "text": [
      "['wins', 'avg_age', 'ops', 'home_runs', 'batting_avg', 'runs_scored']\n",
      "['losses', 'runs_allowed', 'earned_runs', 'era', 'strikeouts', 'field_percent']\n"
     ]
    }
   ],
   "source": [
    "print(off_keys)\n",
    "print(def_keys)"
   ]
  },
  {
   "cell_type": "code",
   "execution_count": 222,
   "metadata": {},
   "outputs": [
    {
     "data": {
      "text/plain": [
       "[['Arizona Diamondbacks', 82],\n",
       " ['Atlanta Braves', 90],\n",
       " ['Baltimore Orioles', 47],\n",
       " ['Boston Red Sox', 108],\n",
       " ['Chicago Cubs', 95],\n",
       " ['Chicago White Sox', 62],\n",
       " ['Cincinnati Reds', 67],\n",
       " ['Cleveland Indians', 91],\n",
       " ['Colorado Rockies', 91],\n",
       " ['Detroit Tigers', 64],\n",
       " ['Houston Astros', 103],\n",
       " ['Kansas City Royals', 58],\n",
       " ['Los Angeles Angels', 80],\n",
       " ['Los Angeles Dodgers', 92],\n",
       " ['Miami Marlins', 63],\n",
       " ['Milwaukee Brewers', 96],\n",
       " ['Minnesota Twins', 78],\n",
       " ['New York Mets', 77],\n",
       " ['New York Yankees', 100],\n",
       " ['Oakland Athletics', 97],\n",
       " ['Philadelphia Phillies', 80],\n",
       " ['Pittsburgh Pirates', 82],\n",
       " ['San Diego Padres', 66],\n",
       " ['San Francisco Giants', 73],\n",
       " ['Seattle Mariners', 89],\n",
       " ['St. Louis Cardinals', 88],\n",
       " ['Tampa Bay Rays', 90],\n",
       " ['Texas Rangers', 67],\n",
       " ['Toronto Blue Jays', 73],\n",
       " ['Washington Nationals', 82]]"
      ]
     },
     "execution_count": 222,
     "metadata": {},
     "output_type": "execute_result"
    }
   ],
   "source": [
    "def key_find(stat, year):\n",
    "    if stat in off_keys:\n",
    "        if stat:\n",
    "            return osp.getOffensiveStatForEachTeamYear(stat, year)[0]\n",
    "    if stat in def_keys:\n",
    "        if stat:\n",
    "            return dsp.getDefensiveStatForEachTeamYear(stat, year)\n",
    "            \n",
    "test = key_find('wins', 2018)\n",
    "test"
   ]
  },
  {
   "cell_type": "code",
   "execution_count": 208,
   "metadata": {},
   "outputs": [
    {
     "name": "stdout",
     "output_type": "stream",
     "text": [
      "runs_scored 2018\n"
     ]
    }
   ],
   "source": [
    "def test1(stat1, year):\n",
    "    print (stat1, year)\n",
    "test1('runs_scored', 2018)"
   ]
  },
  {
   "cell_type": "code",
   "execution_count": null,
   "metadata": {},
   "outputs": [],
   "source": []
  },
  {
   "cell_type": "code",
   "execution_count": 228,
   "metadata": {},
   "outputs": [
    {
     "data": {
      "text/plain": [
       "[['Arizona Diamondbacks', 693],\n",
       " ['Atlanta Braves', 759],\n",
       " ['Baltimore Orioles', 622],\n",
       " ['Boston Red Sox', 876],\n",
       " ['Chicago Cubs', 761],\n",
       " ['Chicago White Sox', 656],\n",
       " ['Cincinnati Reds', 696],\n",
       " ['Cleveland Indians', 818],\n",
       " ['Colorado Rockies', 780],\n",
       " ['Detroit Tigers', 630],\n",
       " ['Houston Astros', 797],\n",
       " ['Kansas City Royals', 638],\n",
       " ['Los Angeles Angels', 721],\n",
       " ['Los Angeles Dodgers', 804],\n",
       " ['Miami Marlins', 589],\n",
       " ['Milwaukee Brewers', 754],\n",
       " ['Minnesota Twins', 738],\n",
       " ['New York Mets', 676],\n",
       " ['New York Yankees', 851],\n",
       " ['Oakland Athletics', 813],\n",
       " ['Philadelphia Phillies', 677],\n",
       " ['Pittsburgh Pirates', 692],\n",
       " ['San Diego Padres', 617],\n",
       " ['San Francisco Giants', 603],\n",
       " ['Seattle Mariners', 677],\n",
       " ['St. Louis Cardinals', 759],\n",
       " ['Tampa Bay Rays', 716],\n",
       " ['Texas Rangers', 737],\n",
       " ['Toronto Blue Jays', 709],\n",
       " ['Washington Nationals', 771]]"
      ]
     },
     "execution_count": 228,
     "metadata": {},
     "output_type": "execute_result"
    }
   ],
   "source": [
    "def key_find(stat, year):\n",
    "    if stat in off_keys:\n",
    "        return osp.getOffensiveStatForEachTeamYear(stat, year)[0]\n",
    "    else:\n",
    "        return dsp.getDefensiveStatForEachTeamYear(stat, year)\n",
    "key_find('runs_scored', 2018)"
   ]
  },
  {
   "cell_type": "code",
   "execution_count": 16,
   "metadata": {},
   "outputs": [
    {
     "data": {
      "text/plain": [
       "3"
      ]
     },
     "execution_count": 16,
     "metadata": {},
     "output_type": "execute_result"
    }
   ],
   "source": [
    "def ws_year_count(stat, year):\n",
    "    year_stats = cd.getTeamsOffensiveStatsForYear(year)\n",
    "    given_stat_year = [[team.team.name, getattr(team, stat)] for team in year_stats]\n",
    "    ws_winner = WS_Winners.query.filter(WS_Winners.year == year)[0].team.name\n",
    "    index = [(i, el.index(ws_winner)) for i, el in enumerate(given_stat_year) if ws_winner in el][0][0]\n",
    "    return index\n",
    "    \n",
    "ws_year_count('runs_scored', 2018)"
   ]
  },
  {
   "cell_type": "code",
   "execution_count": 14,
   "metadata": {},
   "outputs": [
    {
     "data": {
      "text/plain": [
       "[1906,\n",
       " 1907,\n",
       " 1908,\n",
       " 1909,\n",
       " 1912,\n",
       " 1915,\n",
       " 1916,\n",
       " 1917,\n",
       " 1918,\n",
       " 1919,\n",
       " 1920,\n",
       " 1923,\n",
       " 1924,\n",
       " 1925,\n",
       " 1926,\n",
       " 1927,\n",
       " 1928,\n",
       " 1931,\n",
       " 1932,\n",
       " 1934,\n",
       " 1935,\n",
       " 1936,\n",
       " 1937,\n",
       " 1938,\n",
       " 1939,\n",
       " 1940,\n",
       " 1941,\n",
       " 1942,\n",
       " 1943,\n",
       " 1944,\n",
       " 1945,\n",
       " 1946,\n",
       " 1947,\n",
       " 1948,\n",
       " 1949,\n",
       " 1950,\n",
       " 1951,\n",
       " 1952,\n",
       " 1953,\n",
       " 1956,\n",
       " 1958,\n",
       " 1959,\n",
       " 1960,\n",
       " 1961,\n",
       " 1962,\n",
       " 1963,\n",
       " 1964,\n",
       " 1965,\n",
       " 1966,\n",
       " 1967,\n",
       " 1968,\n",
       " 1969,\n",
       " 1970,\n",
       " 1971,\n",
       " 1972,\n",
       " 1973,\n",
       " 1974,\n",
       " 1975,\n",
       " 1976,\n",
       " 1977,\n",
       " 1978,\n",
       " 1979,\n",
       " 1980,\n",
       " 1981,\n",
       " 1982,\n",
       " 1983,\n",
       " 1984,\n",
       " 1985,\n",
       " 1986,\n",
       " 1987,\n",
       " 1988,\n",
       " 1989,\n",
       " 1990,\n",
       " 1991,\n",
       " 1992,\n",
       " 1993,\n",
       " 1995,\n",
       " 1996,\n",
       " 1998,\n",
       " 1999,\n",
       " 2000,\n",
       " 2001,\n",
       " 2005,\n",
       " 2006,\n",
       " 2007,\n",
       " 2008,\n",
       " 2009,\n",
       " 2010,\n",
       " 2011,\n",
       " 2012,\n",
       " 2013,\n",
       " 2014,\n",
       " 2015,\n",
       " 2016,\n",
       " 2017,\n",
       " 2018,\n",
       " 2004]"
      ]
     },
     "execution_count": 14,
     "metadata": {},
     "output_type": "execute_result"
    }
   ],
   "source": [
    "def getAllYearsWithValidWSWinner():\n",
    "    ws_winners_with_team = WS_Winners.query.filter(WS_Winners.team_id).all()\n",
    "    years = [winner.year for winner in ws_winners_with_team]\n",
    "    return years\n",
    "getAllYearsWithValidWSWinner()"
   ]
  },
  {
   "cell_type": "code",
   "execution_count": null,
   "metadata": {},
   "outputs": [],
   "source": []
  }
 ],
 "metadata": {
  "kernelspec": {
   "display_name": "Python 3",
   "language": "python",
   "name": "python3"
  },
  "language_info": {
   "codemirror_mode": {
    "name": "ipython",
    "version": 3
   },
   "file_extension": ".py",
   "mimetype": "text/x-python",
   "name": "python",
   "nbconvert_exporter": "python",
   "pygments_lexer": "ipython3",
   "version": "3.7.0"
  }
 },
 "nbformat": 4,
 "nbformat_minor": 2
}
