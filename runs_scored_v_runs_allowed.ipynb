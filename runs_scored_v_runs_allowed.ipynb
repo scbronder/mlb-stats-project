{
 "cells": [
  {
   "cell_type": "code",
   "execution_count": 1,
   "metadata": {},
   "outputs": [
    {
     "data": {
      "text/html": [
       "<script type=\"text/javascript\">window.PlotlyConfig = {MathJaxConfig: 'local'};</script><script type=\"text/javascript\">if (window.MathJax) {MathJax.Hub.Config({SVG: {font: \"STIX-Web\"}});}</script><script>requirejs.config({paths: { 'plotly': ['https://cdn.plot.ly/plotly-latest.min']},});if(!window._Plotly) {require(['plotly'],function(plotly) {window._Plotly=plotly;});}</script>"
      ],
      "text/vnd.plotly.v1+html": [
       "<script type=\"text/javascript\">window.PlotlyConfig = {MathJaxConfig: 'local'};</script><script type=\"text/javascript\">if (window.MathJax) {MathJax.Hub.Config({SVG: {font: \"STIX-Web\"}});}</script><script>requirejs.config({paths: { 'plotly': ['https://cdn.plot.ly/plotly-latest.min']},});if(!window._Plotly) {require(['plotly'],function(plotly) {window._Plotly=plotly;});}</script>"
      ]
     },
     "metadata": {},
     "output_type": "display_data"
    }
   ],
   "source": [
    "from console import *\n",
    "from plots import *\n",
    "import plotly as plt\n",
    "from plotly.offline import init_notebook_mode, iplot\n",
    "from plotly import tools\n",
    "\n",
    "init_notebook_mode(connected = True)"
   ]
  },
  {
   "cell_type": "code",
   "execution_count": 2,
   "metadata": {},
   "outputs": [],
   "source": [
    "import dash\n",
    "import dash_core_components as dcc\n",
    "import dash_html_components as html\n",
    "import pandas as pd\n",
    "import plotly.graph_objs as go\n",
    "from flask import Flask"
   ]
  },
  {
   "cell_type": "code",
   "execution_count": 3,
   "metadata": {},
   "outputs": [],
   "source": [
    "dsp = DefensiveStats()\n",
    "osp = OffensiveStats()"
   ]
  },
  {
   "cell_type": "code",
   "execution_count": 4,
   "metadata": {},
   "outputs": [],
   "source": [
    "runs_scored = osp.getOffensiveStatForEachTeamYear('runs_scored', 2017)\n",
    "#runs_scored"
   ]
  },
  {
   "cell_type": "code",
   "execution_count": 31,
   "metadata": {},
   "outputs": [],
   "source": [
    "runs_allowed = dsp.getDefensiveStatForEachTeamYear('runs_allowed', 2017)\n",
    "#runs_allowed"
   ]
  },
  {
   "cell_type": "code",
   "execution_count": 33,
   "metadata": {},
   "outputs": [
    {
     "data": {
      "text/plain": [
       "['Arizona Diamondbacks', 812, 659]"
      ]
     },
     "execution_count": 33,
     "metadata": {},
     "output_type": "execute_result"
    }
   ],
   "source": [
    "team = [[x[0]]+[x[1]]+[y[1]] for x,y in zip(runs_scored, runs_allowed)]\n",
    "team[0]"
   ]
  },
  {
   "cell_type": "code",
   "execution_count": 38,
   "metadata": {},
   "outputs": [
    {
     "data": {
      "text/plain": [
       "[['Atlanta Braves', 791, 581],\n",
       " ['Baltimore Orioles', 812, 681],\n",
       " ['Boston Red Sox', 851, 857],\n",
       " ['Chicago Cubs', 687, 759],\n",
       " ['Chicago White Sox', 779, 833],\n",
       " ['Cincinnati Reds', 651, 764],\n",
       " ['Cleveland Indians', 868, 815],\n",
       " ['Colorado Rockies', 923, 908],\n",
       " ['Detroit Tigers', 784, 790],\n",
       " ['Houston Astros', 777, 660],\n",
       " ['Kansas City Royals', 747, 820],\n",
       " ['Los Angeles Angels', 829, 794],\n",
       " ['Los Angeles Dodgers', 742, 645],\n",
       " ['Miami Marlins', 740, 669],\n",
       " ['Milwaukee Brewers', 681, 742],\n",
       " ['Minnesota Twins', 772, 861],\n",
       " ['New York Mets', 777, 709],\n",
       " ['New York Yankees', 891, 688],\n",
       " ['Oakland Athletics', 764, 946],\n",
       " ['Philadelphia Phillies', 668, 840],\n",
       " ['Pittsburgh Pirates', 725, 760],\n",
       " ['San Diego Padres', 795, 891],\n",
       " ['San Francisco Giants', 784, 793],\n",
       " ['Seattle Mariners', 925, 833],\n",
       " ['St. Louis Cardinals', 689, 708],\n",
       " ['Texas Rangers', 807, 823],\n",
       " ['Toronto Blue Jays', 654, 694],\n",
       " ['Washington Nationals', 691, 740]]"
      ]
     },
     "execution_count": 38,
     "metadata": {},
     "output_type": "execute_result"
    }
   ],
   "source": [
    "def runs(year):\n",
    "    runs_scored = osp.getOffensiveStatForEachTeamYear('runs_scored', year)\n",
    "    runs_allowed = dsp.getDefensiveStatForEachTeamYear('runs_allowed', year)\n",
    "    runs_list = [[x[0]]+[x[1]]+[y[1]] for x,y in zip(runs_scored, runs_allowed)]\n",
    "    return runs_list\n",
    "test_year = runs(1997)\n",
    "test_year"
   ]
  },
  {
   "cell_type": "code",
   "execution_count": 8,
   "metadata": {},
   "outputs": [],
   "source": [
    "# server = Flask(__name__)\n",
    "\n",
    "# external_stylesheets = ['https://codepen.io/chriddyp/pen/bWLwgP.css']\n",
    "\n",
    "# app = dash.Dash(__name__, external_stylesheets=external_stylesheets)\n",
    "\n",
    "# app.layout = html.Div([\n",
    "#     dcc.Graph(\n",
    "#         id='runs-scored-v-allowed',\n",
    "#         figure={\n",
    "#             'data': [\n",
    "#                 go.Scatter(\n",
    "#                     x= [i[1]],\n",
    "#                     y= [i[2]],\n",
    "#                     text= [i[0]],\n",
    "#                     mode='markers',\n",
    "#                     opacity=0.7,\n",
    "#                     marker={\n",
    "#                         'size': 15,\n",
    "#                         'line': {'width': 0.5, 'color': 'white'}\n",
    "#                     },\n",
    "#                     name= 'i'\n",
    "#                 ) for i in team\n",
    "#             ],\n",
    "#             'layout': go.Layout(\n",
    "#                 xaxis={'type': 'log', 'title': 'Runs Scored'},\n",
    "#                 yaxis={'title': 'Runs Allowed'},\n",
    "#                 margin={'l': 40, 'b': 40, 't': 10, 'r': 10},\n",
    "#                 legend={'x': 0, 'y': 1},\n",
    "#                 hovermode='closest'\n",
    "#             )\n",
    "#         }\n",
    "#     )])\n",
    "\n",
    "# if __name__ == '__main__':\n",
    "#     app.run_server(debug=True)"
   ]
  },
  {
   "cell_type": "code",
   "execution_count": 9,
   "metadata": {},
   "outputs": [
    {
     "data": {
      "text/plain": [
       "[['Arizona Diamondbacks', 812, 659],\n",
       " ['Atlanta Braves', 732, 821],\n",
       " ['Baltimore Orioles', 743, 841],\n",
       " ['Boston Red Sox', 785, 668],\n",
       " ['Chicago Cubs', 822, 695],\n",
       " ['Chicago White Sox', 706, 820],\n",
       " ['Cincinnati Reds', 753, 869],\n",
       " ['Cleveland Indians', 818, 564],\n",
       " ['Colorado Rockies', 824, 757],\n",
       " ['Detroit Tigers', 735, 894],\n",
       " ['Houston Astros', 896, 700],\n",
       " ['Kansas City Royals', 702, 791],\n",
       " ['Los Angeles Angels', 710, 709],\n",
       " ['Los Angeles Dodgers', 770, 580],\n",
       " ['Miami Marlins', 778, 822],\n",
       " ['Milwaukee Brewers', 732, 697],\n",
       " ['Minnesota Twins', 815, 788],\n",
       " ['New York Mets', 735, 863],\n",
       " ['New York Yankees', 858, 660],\n",
       " ['Oakland Athletics', 739, 826],\n",
       " ['Philadelphia Phillies', 690, 782],\n",
       " ['Pittsburgh Pirates', 668, 731],\n",
       " ['San Diego Padres', 604, 816],\n",
       " ['San Francisco Giants', 639, 776],\n",
       " ['Seattle Mariners', 750, 772],\n",
       " ['St. Louis Cardinals', 761, 705],\n",
       " ['Tampa Bay Rays', 694, 704],\n",
       " ['Texas Rangers', 799, 816],\n",
       " ['Toronto Blue Jays', 693, 784],\n",
       " ['Washington Nationals', 819, 672]]"
      ]
     },
     "execution_count": 9,
     "metadata": {},
     "output_type": "execute_result"
    }
   ],
   "source": [
    "team"
   ]
  },
  {
   "cell_type": "code",
   "execution_count": 10,
   "metadata": {},
   "outputs": [
    {
     "data": {
      "text/plain": [
       "sqlalchemy.orm.attributes.InstrumentedAttribute"
      ]
     },
     "execution_count": 10,
     "metadata": {},
     "output_type": "execute_result"
    }
   ],
   "source": [
    "type(Offensive_Stats.year)\n"
   ]
  },
  {
   "cell_type": "code",
   "execution_count": 11,
   "metadata": {},
   "outputs": [],
   "source": [
    "wss = WSScraper()"
   ]
  },
  {
   "cell_type": "code",
   "execution_count": 12,
   "metadata": {},
   "outputs": [
    {
     "name": "stdout",
     "output_type": "stream",
     "text": [
      "[<th align=\"left\" scope=\"row\"><a href=\"/wiki/1903_World_Series\" title=\"1903 World Series\">1903</a>\n",
      "</th>, <th align=\"left\" scope=\"row\"><a href=\"/wiki/1904_World_Series\" title=\"1904 World Series\">1904</a>\n",
      "</th>, <th align=\"left\" scope=\"row\"><a href=\"/wiki/1905_World_Series\" title=\"1905 World Series\">1905</a>\n",
      "</th>, <th align=\"left\" scope=\"row\"><a href=\"/wiki/1906_World_Series\" title=\"1906 World Series\">1906</a>\n",
      "</th>, <th align=\"left\" scope=\"row\"><a href=\"/wiki/1907_World_Series\" title=\"1907 World Series\">1907</a>\n",
      "</th>, <th align=\"left\" scope=\"row\"><a href=\"/wiki/1908_World_Series\" title=\"1908 World Series\">1908</a>\n",
      "</th>, <th align=\"left\" scope=\"row\"><a href=\"/wiki/1909_World_Series\" title=\"1909 World Series\">1909</a>\n",
      "</th>, <th align=\"left\" scope=\"row\"><a href=\"/wiki/1910_World_Series\" title=\"1910 World Series\">1910</a>\n",
      "</th>, <th align=\"left\" scope=\"row\"><a href=\"/wiki/1911_World_Series\" title=\"1911 World Series\">1911</a>\n",
      "</th>, <th align=\"left\" scope=\"row\"><a href=\"/wiki/1912_World_Series\" title=\"1912 World Series\">1912</a>\n",
      "</th>, <th align=\"left\" scope=\"row\"><a href=\"/wiki/1913_World_Series\" title=\"1913 World Series\">1913</a>\n",
      "</th>, <th align=\"left\" scope=\"row\"><a href=\"/wiki/1914_World_Series\" title=\"1914 World Series\">1914</a>\n",
      "</th>, <th align=\"left\" scope=\"row\"><a href=\"/wiki/1915_World_Series\" title=\"1915 World Series\">1915</a>\n",
      "</th>, <th align=\"left\" scope=\"row\"><a href=\"/wiki/1916_World_Series\" title=\"1916 World Series\">1916</a>\n",
      "</th>, <th align=\"left\" scope=\"row\"><a href=\"/wiki/1917_World_Series\" title=\"1917 World Series\">1917</a>\n",
      "</th>, <th align=\"left\" scope=\"row\"><a href=\"/wiki/1918_World_Series\" title=\"1918 World Series\">1918</a>\n",
      "</th>, <th align=\"left\" scope=\"row\"><a href=\"/wiki/1919_World_Series\" title=\"1919 World Series\">1919</a>\n",
      "</th>, <th align=\"left\" scope=\"row\"><a href=\"/wiki/1920_World_Series\" title=\"1920 World Series\">1920</a>\n",
      "</th>, <th align=\"left\" scope=\"row\"><a href=\"/wiki/1921_World_Series\" title=\"1921 World Series\">1921</a>\n",
      "</th>, <th align=\"left\" scope=\"row\"><a href=\"/wiki/1922_World_Series\" title=\"1922 World Series\">1922</a>\n",
      "</th>, <th align=\"left\" scope=\"row\"><a href=\"/wiki/1923_World_Series\" title=\"1923 World Series\">1923</a>\n",
      "</th>, <th align=\"left\" scope=\"row\"><a href=\"/wiki/1924_World_Series\" title=\"1924 World Series\">1924</a>\n",
      "</th>, <th align=\"left\" scope=\"row\"><a href=\"/wiki/1925_World_Series\" title=\"1925 World Series\">1925</a>\n",
      "</th>, <th align=\"left\" scope=\"row\"><a href=\"/wiki/1926_World_Series\" title=\"1926 World Series\">1926</a>\n",
      "</th>, <th align=\"left\" scope=\"row\"><a href=\"/wiki/1927_World_Series\" title=\"1927 World Series\">1927</a>\n",
      "</th>, <th align=\"left\" scope=\"row\"><a href=\"/wiki/1928_World_Series\" title=\"1928 World Series\">1928</a>\n",
      "</th>, <th align=\"left\" scope=\"row\"><a href=\"/wiki/1929_World_Series\" title=\"1929 World Series\">1929</a>\n",
      "</th>, <th align=\"left\" scope=\"row\"><a href=\"/wiki/1930_World_Series\" title=\"1930 World Series\">1930</a>\n",
      "</th>, <th align=\"left\" scope=\"row\"><a href=\"/wiki/1931_World_Series\" title=\"1931 World Series\">1931</a>\n",
      "</th>, <th align=\"left\" scope=\"row\"><a href=\"/wiki/1932_World_Series\" title=\"1932 World Series\">1932</a>\n",
      "</th>, <th align=\"left\" scope=\"row\"><a href=\"/wiki/1933_World_Series\" title=\"1933 World Series\">1933</a>\n",
      "</th>, <th align=\"left\" scope=\"row\"><a href=\"/wiki/1934_World_Series\" title=\"1934 World Series\">1934</a>\n",
      "</th>, <th align=\"left\" scope=\"row\"><a href=\"/wiki/1935_World_Series\" title=\"1935 World Series\">1935</a>\n",
      "</th>, <th align=\"left\" scope=\"row\"><a href=\"/wiki/1936_World_Series\" title=\"1936 World Series\">1936</a>\n",
      "</th>, <th align=\"left\" scope=\"row\"><a href=\"/wiki/1937_World_Series\" title=\"1937 World Series\">1937</a>\n",
      "</th>, <th align=\"left\" scope=\"row\"><a href=\"/wiki/1938_World_Series\" title=\"1938 World Series\">1938</a>\n",
      "</th>, <th align=\"left\" scope=\"row\"><a href=\"/wiki/1939_World_Series\" title=\"1939 World Series\">1939</a>\n",
      "</th>, <th align=\"left\" scope=\"row\"><a href=\"/wiki/1940_World_Series\" title=\"1940 World Series\">1940</a>\n",
      "</th>, <th align=\"left\" scope=\"row\"><a href=\"/wiki/1941_World_Series\" title=\"1941 World Series\">1941</a>\n",
      "</th>, <th align=\"left\" scope=\"row\"><a href=\"/wiki/1942_World_Series\" title=\"1942 World Series\">1942</a>\n",
      "</th>, <th align=\"left\" scope=\"row\"><a href=\"/wiki/1943_World_Series\" title=\"1943 World Series\">1943</a>\n",
      "</th>, <th align=\"left\" scope=\"row\"><a href=\"/wiki/1944_World_Series\" title=\"1944 World Series\">1944</a>\n",
      "</th>, <th align=\"left\" scope=\"row\"><a href=\"/wiki/1945_World_Series\" title=\"1945 World Series\">1945</a>\n",
      "</th>, <th align=\"left\" scope=\"row\"><a href=\"/wiki/1946_World_Series\" title=\"1946 World Series\">1946</a>\n",
      "</th>, <th align=\"left\" scope=\"row\"><a href=\"/wiki/1947_World_Series\" title=\"1947 World Series\">1947</a>\n",
      "</th>, <th align=\"left\" scope=\"row\"><a href=\"/wiki/1948_World_Series\" title=\"1948 World Series\">1948</a>\n",
      "</th>, <th align=\"left\" scope=\"row\"><a href=\"/wiki/1949_World_Series\" title=\"1949 World Series\">1949</a>\n",
      "</th>, <th align=\"left\" scope=\"row\"><a href=\"/wiki/1950_World_Series\" title=\"1950 World Series\">1950</a>\n",
      "</th>, <th align=\"left\" scope=\"row\"><a href=\"/wiki/1951_World_Series\" title=\"1951 World Series\">1951</a>\n",
      "</th>, <th align=\"left\" scope=\"row\"><a href=\"/wiki/1952_World_Series\" title=\"1952 World Series\">1952</a>\n",
      "</th>, <th align=\"left\" scope=\"row\"><a href=\"/wiki/1953_World_Series\" title=\"1953 World Series\">1953</a>\n",
      "</th>, <th align=\"left\" scope=\"row\"><a href=\"/wiki/1954_World_Series\" title=\"1954 World Series\">1954</a>\n",
      "</th>, <th align=\"left\" scope=\"row\"><a href=\"/wiki/1955_World_Series\" title=\"1955 World Series\">1955</a>\n",
      "</th>, <th align=\"left\" scope=\"row\"><a href=\"/wiki/1956_World_Series\" title=\"1956 World Series\">1956</a>\n",
      "</th>, <th align=\"left\" scope=\"row\"><a href=\"/wiki/1957_World_Series\" title=\"1957 World Series\">1957</a>\n",
      "</th>, <th align=\"left\" scope=\"row\"><a href=\"/wiki/1958_World_Series\" title=\"1958 World Series\">1958</a>\n",
      "</th>, <th align=\"left\" scope=\"row\"><a href=\"/wiki/1959_World_Series\" title=\"1959 World Series\">1959</a>\n",
      "</th>, <th align=\"left\" scope=\"row\"><a href=\"/wiki/1960_World_Series\" title=\"1960 World Series\">1960</a>\n",
      "</th>, <th align=\"left\" scope=\"row\"><a href=\"/wiki/1961_World_Series\" title=\"1961 World Series\">1961</a>\n",
      "</th>, <th align=\"left\" scope=\"row\"><a href=\"/wiki/1962_World_Series\" title=\"1962 World Series\">1962</a>\n",
      "</th>, <th align=\"left\" scope=\"row\"><a href=\"/wiki/1963_World_Series\" title=\"1963 World Series\">1963</a>\n",
      "</th>, <th align=\"left\" scope=\"row\"><a href=\"/wiki/1964_World_Series\" title=\"1964 World Series\">1964</a>\n",
      "</th>, <th align=\"left\" scope=\"row\"><a href=\"/wiki/1965_World_Series\" title=\"1965 World Series\">1965</a>\n",
      "</th>, <th align=\"left\" scope=\"row\"><a href=\"/wiki/1966_World_Series\" title=\"1966 World Series\">1966</a>\n",
      "</th>, <th align=\"left\" scope=\"row\"><a href=\"/wiki/1967_World_Series\" title=\"1967 World Series\">1967</a>\n",
      "</th>, <th align=\"left\" scope=\"row\"><a href=\"/wiki/1968_World_Series\" title=\"1968 World Series\">1968</a>\n",
      "</th>, <th align=\"left\" scope=\"row\"><a href=\"/wiki/1969_World_Series\" title=\"1969 World Series\">1969</a>\n",
      "</th>, <th align=\"left\" scope=\"row\"><a href=\"/wiki/1970_World_Series\" title=\"1970 World Series\">1970</a>\n",
      "</th>, <th align=\"left\" scope=\"row\"><a href=\"/wiki/1971_World_Series\" title=\"1971 World Series\">1971</a>\n",
      "</th>, <th align=\"left\" scope=\"row\"><a href=\"/wiki/1972_World_Series\" title=\"1972 World Series\">1972</a>\n",
      "</th>, <th align=\"left\" scope=\"row\"><a href=\"/wiki/1973_World_Series\" title=\"1973 World Series\">1973</a>\n",
      "</th>, <th align=\"left\" scope=\"row\"><a href=\"/wiki/1974_World_Series\" title=\"1974 World Series\">1974</a>\n",
      "</th>, <th align=\"left\" scope=\"row\"><a href=\"/wiki/1975_World_Series\" title=\"1975 World Series\">1975</a>\n",
      "</th>, <th align=\"left\" scope=\"row\"><a href=\"/wiki/1976_World_Series\" title=\"1976 World Series\">1976</a>\n",
      "</th>, <th align=\"left\" scope=\"row\"><a href=\"/wiki/1977_World_Series\" title=\"1977 World Series\">1977</a>\n",
      "</th>, <th align=\"left\" scope=\"row\"><a href=\"/wiki/1978_World_Series\" title=\"1978 World Series\">1978</a>\n",
      "</th>, <th align=\"left\" scope=\"row\"><a href=\"/wiki/1979_World_Series\" title=\"1979 World Series\">1979</a>\n",
      "</th>, <th align=\"left\" scope=\"row\"><a href=\"/wiki/1980_World_Series\" title=\"1980 World Series\">1980</a>\n",
      "</th>, <th align=\"left\" scope=\"row\"><a href=\"/wiki/1981_World_Series\" title=\"1981 World Series\">1981</a>\n",
      "</th>, <th align=\"left\" scope=\"row\"><a href=\"/wiki/1982_World_Series\" title=\"1982 World Series\">1982</a>\n",
      "</th>, <th align=\"left\" scope=\"row\"><a href=\"/wiki/1983_World_Series\" title=\"1983 World Series\">1983</a>\n",
      "</th>, <th align=\"left\" scope=\"row\"><a href=\"/wiki/1984_World_Series\" title=\"1984 World Series\">1984</a>\n",
      "</th>, <th align=\"left\" scope=\"row\"><a href=\"/wiki/1985_World_Series\" title=\"1985 World Series\">1985</a>\n",
      "</th>, <th align=\"left\" scope=\"row\"><a href=\"/wiki/1986_World_Series\" title=\"1986 World Series\">1986</a>\n",
      "</th>, <th align=\"left\" scope=\"row\"><a href=\"/wiki/1987_World_Series\" title=\"1987 World Series\">1987</a>\n",
      "</th>, <th align=\"left\" scope=\"row\"><a href=\"/wiki/1988_World_Series\" title=\"1988 World Series\">1988</a>\n",
      "</th>, <th align=\"left\" scope=\"row\"><a href=\"/wiki/1989_World_Series\" title=\"1989 World Series\">1989</a>\n",
      "</th>, <th align=\"left\" scope=\"row\"><a href=\"/wiki/1990_World_Series\" title=\"1990 World Series\">1990</a>\n",
      "</th>, <th align=\"left\" scope=\"row\"><a href=\"/wiki/1991_World_Series\" title=\"1991 World Series\">1991</a>\n",
      "</th>, <th align=\"left\" scope=\"row\"><a href=\"/wiki/1992_World_Series\" title=\"1992 World Series\">1992</a>\n",
      "</th>, <th align=\"left\" scope=\"row\"><a href=\"/wiki/1993_World_Series\" title=\"1993 World Series\">1993</a>\n",
      "</th>, <th align=\"left\" scope=\"row\"><a href=\"/wiki/1994_World_Series\" title=\"1994 World Series\">1994</a>\n",
      "</th>, <th align=\"left\" scope=\"row\"><a href=\"/wiki/1995_World_Series\" title=\"1995 World Series\">1995</a>\n",
      "</th>, <th align=\"left\" scope=\"row\"><a href=\"/wiki/1996_World_Series\" title=\"1996 World Series\">1996</a>\n",
      "</th>, <th align=\"left\" scope=\"row\"><a href=\"/wiki/1997_World_Series\" title=\"1997 World Series\">1997</a>\n",
      "</th>, <th align=\"left\" scope=\"row\"><a href=\"/wiki/1998_World_Series\" title=\"1998 World Series\">1998</a>\n",
      "</th>, <th align=\"left\" scope=\"row\"><a href=\"/wiki/1999_World_Series\" title=\"1999 World Series\">1999</a>\n",
      "</th>, <th align=\"left\" scope=\"row\"><a href=\"/wiki/2000_World_Series\" title=\"2000 World Series\">2000</a>\n",
      "</th>, <th align=\"left\" scope=\"row\"><a href=\"/wiki/2001_World_Series\" title=\"2001 World Series\">2001</a>\n",
      "</th>, <th align=\"left\" scope=\"row\"><a href=\"/wiki/2002_World_Series\" title=\"2002 World Series\">2002</a>\n",
      "</th>, <th align=\"left\" scope=\"row\"><a href=\"/wiki/2003_World_Series\" title=\"2003 World Series\">2003</a>\n",
      "</th>, <th align=\"left\" scope=\"row\"><a href=\"/wiki/2004_World_Series\" title=\"2004 World Series\">2004</a>\n",
      "</th>, <th align=\"left\" scope=\"row\"><a href=\"/wiki/2005_World_Series\" title=\"2005 World Series\">2005</a>\n",
      "</th>, <th align=\"left\" scope=\"row\"><a href=\"/wiki/2006_World_Series\" title=\"2006 World Series\">2006</a>\n",
      "</th>, <th align=\"left\" scope=\"row\"><a href=\"/wiki/2007_World_Series\" title=\"2007 World Series\">2007</a>\n",
      "</th>, <th align=\"left\" scope=\"row\"><a href=\"/wiki/2008_World_Series\" title=\"2008 World Series\">2008</a>\n",
      "</th>, <th align=\"left\" scope=\"row\"><a href=\"/wiki/2009_World_Series\" title=\"2009 World Series\">2009</a>\n",
      "</th>, <th align=\"left\" scope=\"row\"><a href=\"/wiki/2010_World_Series\" title=\"2010 World Series\">2010</a>\n",
      "</th>, <th align=\"left\" scope=\"row\"><a href=\"/wiki/2011_World_Series\" title=\"2011 World Series\">2011</a>\n",
      "</th>, <th align=\"left\" scope=\"row\"><a href=\"/wiki/2012_World_Series\" title=\"2012 World Series\">2012</a>\n",
      "</th>, <th align=\"left\" scope=\"row\"><a href=\"/wiki/2013_World_Series\" title=\"2013 World Series\">2013</a>\n",
      "</th>, <th align=\"left\" scope=\"row\"><a href=\"/wiki/2014_World_Series\" title=\"2014 World Series\">2014</a>\n",
      "</th>, <th align=\"left\" scope=\"row\"><a href=\"/wiki/2015_World_Series\" title=\"2015 World Series\">2015</a>\n",
      "</th>, <th align=\"left\" scope=\"row\"><a href=\"/wiki/2016_World_Series\" title=\"2016 World Series\">2016</a>\n",
      "</th>, <th align=\"left\" scope=\"row\"><a href=\"/wiki/2017_World_Series\" title=\"2017 World Series\">2017</a>\n",
      "</th>, <th align=\"left\" scope=\"row\"><a href=\"/wiki/2018_World_Series\" title=\"2018 World Series\">2018</a>\n",
      "</th>, <th scope=\"row\" style=\"text-align:left;\"><a href=\"/wiki/New_York_Yankees\" title=\"New York Yankees\">New York Yankees</a>\n",
      "</th>, <th scope=\"row\" style=\"text-align:left;\"><a href=\"/wiki/San_Francisco_Giants\" title=\"San Francisco Giants\">San Francisco Giants</a> <br/>(<a class=\"mw-redirect\" href=\"/wiki/History_of_the_New_York_Giants_(NL)\" title=\"History of the New York Giants (NL)\">New York</a>)\n",
      "</th>, <th scope=\"row\" style=\"text-align:left;\"><a href=\"/wiki/Los_Angeles_Dodgers\" title=\"Los Angeles Dodgers\">Los Angeles Dodgers</a> <br/>(<a href=\"/wiki/History_of_the_Brooklyn_Dodgers\" title=\"History of the Brooklyn Dodgers\">Brooklyn</a>)\n",
      "</th>, <th scope=\"row\" style=\"text-align:left;\"><a href=\"/wiki/St._Louis_Cardinals\" title=\"St. Louis Cardinals\">St. Louis Cardinals</a>\n",
      "</th>, <th scope=\"row\" style=\"text-align:left;\"><a href=\"/wiki/Oakland_Athletics\" title=\"Oakland Athletics\">Oakland Athletics</a> <br/>(<a href=\"/wiki/History_of_the_Oakland_Athletics#Kansas_City_(1955–1967)\" title=\"History of the Oakland Athletics\">Kansas City</a>/<br/><a href=\"/wiki/History_of_the_Philadelphia_Athletics\" title=\"History of the Philadelphia Athletics\">Philadelphia</a>)\n",
      "</th>, <th scope=\"row\" style=\"text-align:left;\"><a href=\"/wiki/Boston_Red_Sox\" title=\"Boston Red Sox\">Boston Red Sox</a>\n",
      "</th>, <th scope=\"row\" style=\"text-align:left;\"><a href=\"/wiki/Detroit_Tigers\" title=\"Detroit Tigers\">Detroit Tigers</a>\n",
      "</th>, <th scope=\"row\" style=\"text-align:left;\"><a href=\"/wiki/Chicago_Cubs\" title=\"Chicago Cubs\">Chicago Cubs</a>\n",
      "</th>, <th scope=\"row\" style=\"text-align:left;\"><a href=\"/wiki/Cincinnati_Reds\" title=\"Cincinnati Reds\">Cincinnati Reds</a>\n",
      "</th>, <th scope=\"row\" style=\"text-align:left;\"><a href=\"/wiki/Atlanta_Braves\" title=\"Atlanta Braves\">Atlanta Braves</a> <br/>(<a href=\"/wiki/History_of_the_Atlanta_Braves#Milwaukee\" title=\"History of the Atlanta Braves\">Milwaukee</a>/<br/><a href=\"/wiki/History_of_the_Boston_Braves\" title=\"History of the Boston Braves\">Boston</a>)\n",
      "</th>, <th scope=\"row\" style=\"text-align:left;\"><a href=\"/wiki/Pittsburgh_Pirates\" title=\"Pittsburgh Pirates\">Pittsburgh Pirates</a>\n",
      "</th>, <th scope=\"row\" style=\"text-align:left;\"><a href=\"/wiki/Baltimore_Orioles\" title=\"Baltimore Orioles\">Baltimore Orioles</a> <br/>(<a href=\"/wiki/History_of_the_St._Louis_Browns\" title=\"History of the St. Louis Browns\">St. Louis Browns</a>/<a href=\"/wiki/1901_Milwaukee_Brewers_season\" title=\"1901 Milwaukee Brewers season\">Milwaukee Brewers</a>)\n",
      "</th>, <th scope=\"row\" style=\"text-align:left;\"><a href=\"/wiki/Philadelphia_Phillies\" title=\"Philadelphia Phillies\">Philadelphia Phillies</a>\n",
      "</th>, <th scope=\"row\" style=\"text-align:left;\"><a href=\"/wiki/Minnesota_Twins\" title=\"Minnesota Twins\">Minnesota Twins</a> <br/>(<a href=\"/wiki/History_of_the_Washington_Senators_(1901%E2%80%9360)\" title=\"History of the Washington Senators (1901–60)\">Washington Senators (1901-60</a>)\n",
      "</th>, <th scope=\"row\" style=\"text-align:left;\"><a href=\"/wiki/Cleveland_Indians\" title=\"Cleveland Indians\">Cleveland Indians</a>\n",
      "</th>, <th scope=\"row\" style=\"text-align:left;\"><a href=\"/wiki/Chicago_White_Sox\" title=\"Chicago White Sox\">Chicago White Sox</a>\n",
      "</th>, <th scope=\"row\" style=\"text-align:left;\"><a href=\"/wiki/New_York_Mets\" title=\"New York Mets\">New York Mets</a>\n",
      "</th>, <th scope=\"row\" style=\"text-align:left;\"><a href=\"/wiki/Kansas_City_Royals\" title=\"Kansas City Royals\">Kansas City Royals</a>\n",
      "</th>, <th scope=\"row\" style=\"text-align:left;\"><a href=\"/wiki/Miami_Marlins\" title=\"Miami Marlins\">Miami Marlins</a> (Florida)\n",
      "</th>, <th scope=\"row\" style=\"text-align:left;\"><a href=\"/wiki/Toronto_Blue_Jays\" title=\"Toronto Blue Jays\">Toronto Blue Jays</a>\n",
      "</th>, <th scope=\"row\" style=\"text-align:left;\"><a href=\"/wiki/Houston_Astros\" title=\"Houston Astros\">Houston Astros</a>\n",
      "</th>, <th scope=\"row\" style=\"text-align:left;\"><a href=\"/wiki/Texas_Rangers_(baseball)\" title=\"Texas Rangers (baseball)\">Texas Rangers</a> <br/>(<a class=\"mw-redirect\" href=\"/wiki/Washington_Senators_(1961%E2%80%9371)\" title=\"Washington Senators (1961–71)\">Washington Senators (1961-71)</a>\n",
      "</th>, <th scope=\"row\" style=\"text-align:left;\"><a href=\"/wiki/San_Diego_Padres\" title=\"San Diego Padres\">San Diego Padres</a>\n",
      "</th>, <th scope=\"row\" style=\"text-align:left;\"><a href=\"/wiki/Los_Angeles_Angels\" title=\"Los Angeles Angels\">Los Angeles Angels</a> (Anaheim/California)\n",
      "</th>, <th scope=\"row\" style=\"text-align:left;\"><a href=\"/wiki/Arizona_Diamondbacks\" title=\"Arizona Diamondbacks\">Arizona Diamondbacks</a>\n",
      "</th>, <th scope=\"row\" style=\"text-align:left;\"><a href=\"/wiki/Tampa_Bay_Rays\" title=\"Tampa Bay Rays\">Tampa Bay Rays</a>\n",
      "</th>, <th scope=\"row\" style=\"text-align:left;\"><a href=\"/wiki/Colorado_Rockies\" title=\"Colorado Rockies\">Colorado Rockies</a>\n",
      "</th>, <th scope=\"row\" style=\"text-align:left;\"><a href=\"/wiki/Milwaukee_Brewers\" title=\"Milwaukee Brewers\">Milwaukee Brewers</a> <br/>(<a href=\"/wiki/Seattle_Pilots\" title=\"Seattle Pilots\">Seattle Pilots</a>)\n",
      "</th>, <th scope=\"row\" style=\"text-align:left;\"><a href=\"/wiki/Washington_Nationals\" title=\"Washington Nationals\">Washington Nationals</a> <br/>(<a href=\"/wiki/Montreal_Expos\" title=\"Montreal Expos\">Montreal Expos</a>)\n",
      "</th>, <th scope=\"row\" style=\"text-align:left;\"><a href=\"/wiki/Seattle_Mariners\" title=\"Seattle Mariners\">Seattle Mariners</a>\n",
      "</th>, <th scope=\"row\" style=\"text-align:left;\"><a href=\"/wiki/New_York_Yankees\" title=\"New York Yankees\">New York Yankees</a>\n",
      "</th>, <th scope=\"row\" style=\"text-align:left;\"><a href=\"/wiki/San_Francisco_Giants\" title=\"San Francisco Giants\">San Francisco Giants</a> (<a class=\"mw-redirect\" href=\"/wiki/History_of_the_New_York_Giants_(NL)\" title=\"History of the New York Giants (NL)\">New York</a>)\n",
      "</th>, <th scope=\"row\" style=\"text-align:left;\"><a href=\"/wiki/Los_Angeles_Dodgers\" title=\"Los Angeles Dodgers\">Los Angeles Dodgers</a> (<a href=\"/wiki/History_of_the_Brooklyn_Dodgers\" title=\"History of the Brooklyn Dodgers\">Brooklyn</a>)\n",
      "</th>, <th scope=\"row\" style=\"text-align:left;\"><a href=\"/wiki/St._Louis_Cardinals\" title=\"St. Louis Cardinals\">St. Louis Cardinals</a>\n",
      "</th>, <th scope=\"row\" style=\"text-align:left;\"><a href=\"/wiki/Oakland_Athletics\" title=\"Oakland Athletics\">Oakland Athletics</a> (<a href=\"/wiki/History_of_the_Oakland_Athletics#Kansas_City_(1955–1967)\" title=\"History of the Oakland Athletics\">Kansas City</a>/<a href=\"/wiki/History_of_the_Philadelphia_Athletics\" title=\"History of the Philadelphia Athletics\">Philadelphia</a>)\n",
      "</th>, <th scope=\"row\" style=\"text-align:left;\"><a href=\"/wiki/Boston_Red_Sox\" title=\"Boston Red Sox\">Boston Red Sox</a> (Americans)\n",
      "</th>, <th scope=\"row\" style=\"text-align:left;\"><a href=\"/wiki/Detroit_Tigers\" title=\"Detroit Tigers\">Detroit Tigers</a>\n",
      "</th>, <th scope=\"row\" style=\"text-align:left;\"><a href=\"/wiki/Chicago_Cubs\" title=\"Chicago Cubs\">Chicago Cubs</a>\n",
      "</th>, <th scope=\"row\" style=\"text-align:left;\"><a href=\"/wiki/Cincinnati_Reds\" title=\"Cincinnati Reds\">Cincinnati Reds</a>\n",
      "</th>, <th scope=\"row\" style=\"text-align:left;\"><a href=\"/wiki/Atlanta_Braves\" title=\"Atlanta Braves\">Atlanta Braves</a> (<a href=\"/wiki/History_of_the_Atlanta_Braves#Milwaukee\" title=\"History of the Atlanta Braves\">Milwaukee</a>/<a href=\"/wiki/History_of_the_Boston_Braves\" title=\"History of the Boston Braves\">Boston</a>)\n",
      "</th>, <th scope=\"row\" style=\"text-align:left;\"><a href=\"/wiki/Pittsburgh_Pirates\" title=\"Pittsburgh Pirates\">Pittsburgh Pirates</a>\n",
      "</th>, <th scope=\"row\" style=\"text-align:left;\"><a href=\"/wiki/Baltimore_Orioles\" title=\"Baltimore Orioles\">Baltimore Orioles</a> (<a href=\"/wiki/History_of_the_St._Louis_Browns\" title=\"History of the St. Louis Browns\">St. Louis Browns</a>/<a href=\"/wiki/1901_Milwaukee_Brewers_season\" title=\"1901 Milwaukee Brewers season\">Milwaukee Brewers</a>)\n",
      "</th>, <th scope=\"row\" style=\"text-align:left;\"><a href=\"/wiki/Philadelphia_Phillies\" title=\"Philadelphia Phillies\">Philadelphia Phillies</a>\n",
      "</th>, <th scope=\"row\" style=\"text-align:left;\"><a href=\"/wiki/Minnesota_Twins\" title=\"Minnesota Twins\">Minnesota Twins</a> (<a href=\"/wiki/History_of_the_Washington_Senators_(1901%E2%80%9360)\" title=\"History of the Washington Senators (1901–60)\">Washington Senators</a>)\n",
      "</th>, <th scope=\"row\" style=\"text-align:left;\"><a href=\"/wiki/Cleveland_Indians\" title=\"Cleveland Indians\">Cleveland Indians</a>\n",
      "</th>, <th scope=\"row\" style=\"text-align:left;\"><a href=\"/wiki/Chicago_White_Sox\" title=\"Chicago White Sox\">Chicago White Sox</a>\n",
      "</th>, <th scope=\"row\" style=\"text-align:left;\"><a href=\"/wiki/New_York_Mets\" title=\"New York Mets\">New York Mets</a>\n",
      "</th>, <th scope=\"row\" style=\"text-align:left;\"><a href=\"/wiki/Kansas_City_Royals\" title=\"Kansas City Royals\">Kansas City Royals</a>\n",
      "</th>, <th scope=\"row\" style=\"text-align:left;\"><a href=\"/wiki/Toronto_Blue_Jays\" title=\"Toronto Blue Jays\">Toronto Blue Jays</a>\n",
      "</th>, <th scope=\"row\" style=\"text-align:left;\"><a href=\"/wiki/Miami_Marlins\" title=\"Miami Marlins\">Miami Marlins</a> (Florida)\n",
      "</th>, <th scope=\"row\" style=\"text-align:left;\"><a href=\"/wiki/Houston_Astros\" title=\"Houston Astros\">Houston Astros</a>\n",
      "</th>, <th scope=\"row\" style=\"text-align:left;\"><a href=\"/wiki/San_Diego_Padres\" title=\"San Diego Padres\">San Diego Padres</a>\n",
      "</th>, <th scope=\"row\" style=\"text-align:left;\"><a href=\"/wiki/Texas_Rangers_(baseball)\" title=\"Texas Rangers (baseball)\">Texas Rangers</a> (<a class=\"mw-redirect\" href=\"/wiki/Washington_Senators_(1961%E2%80%9371)\" title=\"Washington Senators (1961–71)\">Washington Senators</a>)\n",
      "</th>, <th scope=\"row\" style=\"text-align:left;\"><a href=\"/wiki/Arizona_Diamondbacks\" title=\"Arizona Diamondbacks\">Arizona Diamondbacks</a>\n",
      "</th>, <th scope=\"row\" style=\"text-align:left;\"><a href=\"/wiki/Los_Angeles_Angels\" title=\"Los Angeles Angels\">Los Angeles Angels</a><br/>(Anaheim/California/Los Angeles)\n",
      "</th>, <th scope=\"row\" style=\"text-align:left;\"><a href=\"/wiki/Milwaukee_Brewers\" title=\"Milwaukee Brewers\">Milwaukee Brewers</a> (<a href=\"/wiki/Seattle_Pilots\" title=\"Seattle Pilots\">Seattle Pilots</a>)\n",
      "</th>, <th scope=\"row\" style=\"text-align:left;\"><a href=\"/wiki/Colorado_Rockies\" title=\"Colorado Rockies\">Colorado Rockies</a>\n",
      "</th>, <th scope=\"row\" style=\"text-align:left;\"><a href=\"/wiki/Tampa_Bay_Rays\" title=\"Tampa Bay Rays\">Tampa Bay Rays</a>\n",
      "</th>, <th scope=\"row\" style=\"text-align:left;\"><a href=\"/wiki/Washington_Nationals\" title=\"Washington Nationals\">Washington Nationals</a> (<a href=\"/wiki/Montreal_Expos\" title=\"Montreal Expos\">Montreal Expos</a>)\n",
      "</th>, <th scope=\"row\" style=\"text-align:left;\"><a href=\"/wiki/Seattle_Mariners\" title=\"Seattle Mariners\">Seattle Mariners</a>\n",
      "</th>, <th class=\"navbox-group\" scope=\"row\" style=\"width:1%;background-color:#FFA7A7;\"><a href=\"/wiki/American_League\" title=\"American League\">American<br/>League</a></th>, <th class=\"navbox-group\" scope=\"row\" style=\"width:1%;background-color:#FFA7A7;\"><a href=\"/wiki/American_League_East\" title=\"American League East\">East</a></th>, <th class=\"navbox-group\" scope=\"row\" style=\"width:1%;background-color:#FFA7A7;\"><a href=\"/wiki/American_League_Central\" title=\"American League Central\">Central</a></th>, <th class=\"navbox-group\" scope=\"row\" style=\"width:1%;background-color:#FFA7A7;\"><a href=\"/wiki/American_League_West\" title=\"American League West\">West</a></th>, <th class=\"navbox-group\" scope=\"row\" style=\"width:1%;background-color:#B7D0FF;\"><a href=\"/wiki/National_League\" title=\"National League\">National<br/>League</a></th>, <th class=\"navbox-group\" scope=\"row\" style=\"width:1%;background-color:#B7D0FF;\"><a href=\"/wiki/National_League_East\" title=\"National League East\">East</a></th>, <th class=\"navbox-group\" scope=\"row\" style=\"width:1%;background-color:#B7D0FF;\"><a href=\"/wiki/National_League_Central\" title=\"National League Central\">Central</a></th>, <th class=\"navbox-group\" scope=\"row\" style=\"width:1%;background-color:#B7D0FF;\"><a href=\"/wiki/National_League_West\" title=\"National League West\">West</a></th>, <th class=\"navbox-group\" scope=\"row\" style=\"width:1%\"><a href=\"/wiki/Major_League_Baseball_schedule\" title=\"Major League Baseball schedule\">Schedule</a></th>, <th class=\"navbox-group\" scope=\"row\" style=\"width:1%\"><a href=\"/wiki/Major_League_Baseball_postseason\" title=\"Major League Baseball postseason\">Postseason</a></th>, <th class=\"navbox-group\" scope=\"row\" style=\"width:1%\">Business</th>, <th class=\"navbox-group\" scope=\"row\" style=\"width:1%\">Miscellaneous</th>, <th class=\"navbox-group\" scope=\"row\" style=\"width:1%\">History</th>, <th class=\"navbox-group\" scope=\"row\" style=\"width:1%\">Steroid usage</th>, <th class=\"navbox-group\" scope=\"row\" style=\"width:1%\">Timeline</th>, <th class=\"navbox-group\" scope=\"row\" style=\"width:1%\">1900s–1910s</th>, <th class=\"navbox-group\" scope=\"row\" style=\"width:1%\">1920s–1930s</th>, <th class=\"navbox-group\" scope=\"row\" style=\"width:1%\">1940s–1950s</th>, <th class=\"navbox-group\" scope=\"row\" style=\"width:1%\">1960s–1970s</th>, <th class=\"navbox-group\" scope=\"row\" style=\"width:1%\">1980s–1990s</th>, <th class=\"navbox-group\" scope=\"row\" style=\"width:1%\">2000s–2010s</th>, <th class=\"navbox-group\" scope=\"row\" style=\"width:1%\">Related</th>, <th class=\"navbox-group\" scope=\"row\" style=\"width:1%\">Team</th>, <th class=\"navbox-group\" scope=\"row\" style=\"width:1%\">Individual</th>, <th class=\"navbox-group\" scope=\"row\" style=\"width:1%\">Other</th>]\n"
     ]
    }
   ],
   "source": [
    "print(list(wss.ws_years()))"
   ]
  },
  {
   "cell_type": "code",
   "execution_count": 13,
   "metadata": {},
   "outputs": [],
   "source": [
    "wsb = WSStatsBuilder()"
   ]
  },
  {
   "cell_type": "code",
   "execution_count": 14,
   "metadata": {},
   "outputs": [],
   "source": [
    "#print(list(wsb.run()))"
   ]
  },
  {
   "cell_type": "code",
   "execution_count": null,
   "metadata": {},
   "outputs": [],
   "source": []
  },
  {
   "cell_type": "raw",
   "metadata": {},
   "source": []
  },
  {
   "cell_type": "code",
   "execution_count": 29,
   "metadata": {},
   "outputs": [
    {
     "data": {
      "text/plain": [
       "[(1906),\n",
       " (1907),\n",
       " (1908),\n",
       " (1909),\n",
       " (1912),\n",
       " (1915),\n",
       " (1916),\n",
       " (1917),\n",
       " (1918),\n",
       " (1919),\n",
       " (1920),\n",
       " (1923),\n",
       " (1924),\n",
       " (1925),\n",
       " (1926),\n",
       " (1927),\n",
       " (1928),\n",
       " (1931),\n",
       " (1932),\n",
       " (1934),\n",
       " (1935),\n",
       " (1936),\n",
       " (1937),\n",
       " (1938),\n",
       " (1939),\n",
       " (1940),\n",
       " (1941),\n",
       " (1942),\n",
       " (1943),\n",
       " (1944),\n",
       " (1945),\n",
       " (1946),\n",
       " (1947),\n",
       " (1948),\n",
       " (1949),\n",
       " (1950),\n",
       " (1951),\n",
       " (1952),\n",
       " (1953),\n",
       " (1956),\n",
       " (1958),\n",
       " (1959),\n",
       " (1960),\n",
       " (1961),\n",
       " (1962),\n",
       " (1963),\n",
       " (1964),\n",
       " (1965),\n",
       " (1966),\n",
       " (1967),\n",
       " (1968),\n",
       " (1969),\n",
       " (1970),\n",
       " (1971),\n",
       " (1972),\n",
       " (1973),\n",
       " (1974),\n",
       " (1975),\n",
       " (1976),\n",
       " (1977),\n",
       " (1978),\n",
       " (1979),\n",
       " (1980),\n",
       " (1981),\n",
       " (1982),\n",
       " (1983),\n",
       " (1984),\n",
       " (1985),\n",
       " (1986),\n",
       " (1987),\n",
       " (1988),\n",
       " (1989),\n",
       " (1990),\n",
       " (1991),\n",
       " (1992),\n",
       " (1993),\n",
       " (1995),\n",
       " (1996),\n",
       " (1998),\n",
       " (1999),\n",
       " (2000),\n",
       " (2001),\n",
       " (2004),\n",
       " (2005),\n",
       " (2006),\n",
       " (2007),\n",
       " (2008),\n",
       " (2009),\n",
       " (2010),\n",
       " (2011),\n",
       " (2012),\n",
       " (2013),\n",
       " (2014),\n",
       " (2015),\n",
       " (2016),\n",
       " (2017),\n",
       " (2018)]"
      ]
     },
     "execution_count": 29,
     "metadata": {},
     "output_type": "execute_result"
    }
   ],
   "source": [
    "session.query(WS_Winners.year).filter(WS_Winners.team_id).order_by(WS_Winners.year).all()"
   ]
  },
  {
   "cell_type": "code",
   "execution_count": null,
   "metadata": {},
   "outputs": [],
   "source": []
  }
 ],
 "metadata": {
  "kernelspec": {
   "display_name": "Python 3",
   "language": "python",
   "name": "python3"
  },
  "language_info": {
   "codemirror_mode": {
    "name": "ipython",
    "version": 3
   },
   "file_extension": ".py",
   "mimetype": "text/x-python",
   "name": "python",
   "nbconvert_exporter": "python",
   "pygments_lexer": "ipython3",
   "version": "3.7.0"
  }
 },
 "nbformat": 4,
 "nbformat_minor": 2
}
