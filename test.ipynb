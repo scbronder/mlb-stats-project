{
 "cells": [
  {
   "cell_type": "code",
   "execution_count": 1,
   "metadata": {
    "scrolled": true
   },
   "outputs": [
    {
     "data": {
      "text/html": [
       "<script>requirejs.config({paths: { 'plotly': ['https://cdn.plot.ly/plotly-latest.min']},});if(!window.Plotly) {{require(['plotly'],function(plotly) {window.Plotly=plotly;});}}</script>"
      ],
      "text/vnd.plotly.v1+html": [
       "<script>requirejs.config({paths: { 'plotly': ['https://cdn.plot.ly/plotly-latest.min']},});if(!window.Plotly) {{require(['plotly'],function(plotly) {window.Plotly=plotly;});}}</script>"
      ]
     },
     "metadata": {},
     "output_type": "display_data"
    },
    {
     "name": "stderr",
     "output_type": "stream",
     "text": [
      "/anaconda3/lib/python3.6/site-packages/plotly/graph_objs/_deprecations.py:558: DeprecationWarning:\n",
      "\n",
      "plotly.graph_objs.YAxis is deprecated.\n",
      "Please replace it with one of the following more specific types\n",
      "  - plotly.graph_objs.layout.YAxis\n",
      "  - plotly.graph_objs.layout.scene.YAxis\n",
      "\n",
      "\n",
      "/anaconda3/lib/python3.6/site-packages/plotly/graph_objs/_deprecations.py:531: DeprecationWarning:\n",
      "\n",
      "plotly.graph_objs.XAxis is deprecated.\n",
      "Please replace it with one of the following more specific types\n",
      "  - plotly.graph_objs.layout.XAxis\n",
      "  - plotly.graph_objs.layout.scene.XAxis\n",
      "\n",
      "\n"
     ]
    }
   ],
   "source": [
    "from dash_package import *\n",
    "from dash_package.model import *\n",
    "from dash_package.plots import *\n",
    "import plotly as plt\n",
    "import plotly.graph_objs as go\n",
    "from plotly.offline import init_notebook_mode, iplot\n",
    "from plotly import tools\n",
    "\n",
    "init_notebook_mode(connected = True)\n",
    "\n",
    "import cufflinks as cf"
   ]
  },
  {
   "cell_type": "code",
   "execution_count": 2,
   "metadata": {},
   "outputs": [],
   "source": [
    "drp = DrawPlot()"
   ]
  },
  {
   "cell_type": "code",
   "execution_count": 3,
   "metadata": {
    "scrolled": true
   },
   "outputs": [
    {
     "data": {
      "text/plain": [
       "'Arizona Diamondbacks'"
      ]
     },
     "execution_count": 3,
     "metadata": {},
     "output_type": "execute_result"
    }
   ],
   "source": [
    "Team.query.all()[0].offensive_stats[0].team.name"
   ]
  },
  {
   "cell_type": "code",
   "execution_count": 6,
   "metadata": {
    "scrolled": true
   },
   "outputs": [],
   "source": [
    "data = drp.createBarPlotForOffensiveStatYear('wins', 2018)"
   ]
  },
  {
   "cell_type": "code",
   "execution_count": 5,
   "metadata": {},
   "outputs": [
    {
     "data": {
      "application/vnd.plotly.v1+json": {
       "data": [
        {
         "marker": {
          "color": [
           "rgba(204,204,204,1)",
           "rgba(204,204,204,1)",
           "rgba(204,204,204,1)",
           "rgba(204,204,204,1)",
           "rgba(204,204,204,1)",
           "rgba(204,204,204,1)",
           "rgba(222,45,38,0.8)",
           "rgba(204,204,204,1)",
           "rgba(204,204,204,1)",
           "rgba(204,204,204,1)",
           "rgba(204,204,204,1)",
           "rgba(204,204,204,1)",
           "rgba(204,204,204,1)",
           "rgba(204,204,204,1)",
           "rgba(204,204,204,1)",
           "rgba(204,204,204,1)"
          ]
         },
         "type": "bar",
         "uid": "59ee51ca-e765-11e8-8df6-9a001190b410",
         "x": [
          "Atlanta Braves",
          "Baltimore Orioles",
          "Boston Red Sox",
          "Chicago Cubs",
          "Chicago White Sox",
          "Cincinnati Reds",
          "Cleveland Indians",
          "Detroit Tigers",
          "Los Angeles Dodgers",
          "Minnesota Twins",
          "New York Yankees",
          "Oakland Athletics",
          "Philadelphia Phillies",
          "Pittsburgh Pirates",
          "San Francisco Giants",
          "St. Louis Cardinals"
         ],
         "y": [
          62,
          76,
          72,
          75,
          96,
          82,
          98,
          61,
          93,
          68,
          95,
          48,
          62,
          79,
          86,
          75
         ]
        }
       ],
       "layout": {}
      },
      "text/html": [
       "<div id=\"9e2cf09d-722c-46d1-aa8a-a23030ad0e47\" style=\"height: 525px; width: 100%;\" class=\"plotly-graph-div\"></div><script type=\"text/javascript\">require([\"plotly\"], function(Plotly) { window.PLOTLYENV=window.PLOTLYENV || {};window.PLOTLYENV.BASE_URL=\"https://plot.ly\";Plotly.newPlot(\"9e2cf09d-722c-46d1-aa8a-a23030ad0e47\", [{\"marker\": {\"color\": [\"rgba(204,204,204,1)\", \"rgba(204,204,204,1)\", \"rgba(204,204,204,1)\", \"rgba(204,204,204,1)\", \"rgba(204,204,204,1)\", \"rgba(204,204,204,1)\", \"rgba(222,45,38,0.8)\", \"rgba(204,204,204,1)\", \"rgba(204,204,204,1)\", \"rgba(204,204,204,1)\", \"rgba(204,204,204,1)\", \"rgba(204,204,204,1)\", \"rgba(204,204,204,1)\", \"rgba(204,204,204,1)\", \"rgba(204,204,204,1)\", \"rgba(204,204,204,1)\"]}, \"x\": [\"Atlanta Braves\", \"Baltimore Orioles\", \"Boston Red Sox\", \"Chicago Cubs\", \"Chicago White Sox\", \"Cincinnati Reds\", \"Cleveland Indians\", \"Detroit Tigers\", \"Los Angeles Dodgers\", \"Minnesota Twins\", \"New York Yankees\", \"Oakland Athletics\", \"Philadelphia Phillies\", \"Pittsburgh Pirates\", \"San Francisco Giants\", \"St. Louis Cardinals\"], \"y\": [62, 76, 72, 75, 96, 82, 98, 61, 93, 68, 95, 48, 62, 79, 86, 75], \"type\": \"bar\", \"uid\": \"5af61634-e765-11e8-ae80-9a001190b410\"}], {}, {\"showLink\": true, \"linkText\": \"Export to plot.ly\"})});</script>"
      ],
      "text/vnd.plotly.v1+html": [
       "<div id=\"9e2cf09d-722c-46d1-aa8a-a23030ad0e47\" style=\"height: 525px; width: 100%;\" class=\"plotly-graph-div\"></div><script type=\"text/javascript\">require([\"plotly\"], function(Plotly) { window.PLOTLYENV=window.PLOTLYENV || {};window.PLOTLYENV.BASE_URL=\"https://plot.ly\";Plotly.newPlot(\"9e2cf09d-722c-46d1-aa8a-a23030ad0e47\", [{\"marker\": {\"color\": [\"rgba(204,204,204,1)\", \"rgba(204,204,204,1)\", \"rgba(204,204,204,1)\", \"rgba(204,204,204,1)\", \"rgba(204,204,204,1)\", \"rgba(204,204,204,1)\", \"rgba(222,45,38,0.8)\", \"rgba(204,204,204,1)\", \"rgba(204,204,204,1)\", \"rgba(204,204,204,1)\", \"rgba(204,204,204,1)\", \"rgba(204,204,204,1)\", \"rgba(204,204,204,1)\", \"rgba(204,204,204,1)\", \"rgba(204,204,204,1)\", \"rgba(204,204,204,1)\"]}, \"x\": [\"Atlanta Braves\", \"Baltimore Orioles\", \"Boston Red Sox\", \"Chicago Cubs\", \"Chicago White Sox\", \"Cincinnati Reds\", \"Cleveland Indians\", \"Detroit Tigers\", \"Los Angeles Dodgers\", \"Minnesota Twins\", \"New York Yankees\", \"Oakland Athletics\", \"Philadelphia Phillies\", \"Pittsburgh Pirates\", \"San Francisco Giants\", \"St. Louis Cardinals\"], \"y\": [62, 76, 72, 75, 96, 82, 98, 61, 93, 68, 95, 48, 62, 79, 86, 75], \"type\": \"bar\", \"uid\": \"5af61634-e765-11e8-ae80-9a001190b410\"}], {}, {\"showLink\": true, \"linkText\": \"Export to plot.ly\"})});</script>"
      ]
     },
     "metadata": {},
     "output_type": "display_data"
    }
   ],
   "source": [
    "iplot(data)"
   ]
  },
  {
   "cell_type": "code",
   "execution_count": 6,
   "metadata": {},
   "outputs": [],
   "source": [
    "# cd = CleanData()"
   ]
  },
  {
   "cell_type": "code",
   "execution_count": 9,
   "metadata": {
    "scrolled": true
   },
   "outputs": [
    {
     "data": {
      "text/plain": [
       "['Arizona Diamondbacks',\n",
       " 'Atlanta Braves',\n",
       " 'Baltimore Orioles',\n",
       " 'Boston Red Sox',\n",
       " 'Chicago Cubs',\n",
       " 'Chicago White Sox',\n",
       " 'Cincinnati Reds',\n",
       " 'Cleveland Indians',\n",
       " 'Colorado Rockies',\n",
       " 'Detroit Tigers',\n",
       " 'Houston Astros',\n",
       " 'Kansas City Royals',\n",
       " 'Los Angeles Angels',\n",
       " 'Los Angeles Dodgers',\n",
       " 'Miami Marlins',\n",
       " 'Milwaukee Brewers',\n",
       " 'Minnesota Twins',\n",
       " 'New York Mets',\n",
       " 'New York Yankees',\n",
       " 'Oakland Athletics',\n",
       " 'Philadelphia Phillies',\n",
       " 'Pittsburgh Pirates',\n",
       " 'San Diego Padres',\n",
       " 'San Francisco Giants',\n",
       " 'Seattle Mariners',\n",
       " 'St. Louis Cardinals',\n",
       " 'Tampa Bay Rays',\n",
       " 'Texas Rangers',\n",
       " 'Toronto Blue Jays',\n",
       " 'Washington Nationals']"
      ]
     },
     "execution_count": 9,
     "metadata": {},
     "output_type": "execute_result"
    }
   ],
   "source": [
    "# cd.getTeamNames()"
   ]
  },
  {
   "cell_type": "code",
   "execution_count": null,
   "metadata": {},
   "outputs": [],
   "source": [
    "# team_names = cd.getTeamNames()"
   ]
  },
  {
   "cell_type": "code",
   "execution_count": null,
   "metadata": {},
   "outputs": [],
   "source": []
  },
  {
   "cell_type": "code",
   "execution_count": 8,
   "metadata": {
    "scrolled": true
   },
   "outputs": [],
   "source": [
    "dsp = DefensiveStats()\n",
    "# osp = OffensiveStats()"
   ]
  },
  {
   "cell_type": "code",
   "execution_count": 5,
   "metadata": {},
   "outputs": [],
   "source": [
    "#list(vars(sox_defensive_stats[0]).keys())"
   ]
  },
  {
   "cell_type": "code",
   "execution_count": 6,
   "metadata": {},
   "outputs": [],
   "source": [
    "# dsp.getDefensiveStat('era', 'Los Angeles Dodgers')\n",
    "#osp.getOffensiveStat('batting_avg', 'New York Yankees')"
   ]
  },
  {
   "cell_type": "code",
   "execution_count": null,
   "metadata": {
    "scrolled": false
   },
   "outputs": [],
   "source": []
  },
  {
   "cell_type": "code",
   "execution_count": 8,
   "metadata": {},
   "outputs": [],
   "source": [
    "# data = [go.Bar(\n",
    "#             x=[win[0] for win in wins],\n",
    "#            y=[win[1] for win in wins]\n",
    "#     )]\n",
    "# iplot(data)"
   ]
  },
  {
   "cell_type": "code",
   "execution_count": null,
   "metadata": {},
   "outputs": [],
   "source": []
  },
  {
   "cell_type": "code",
   "execution_count": null,
   "metadata": {},
   "outputs": [],
   "source": []
  }
 ],
 "metadata": {
  "kernelspec": {
   "display_name": "Python 3",
   "language": "python",
   "name": "python3"
  },
  "language_info": {
   "codemirror_mode": {
    "name": "ipython",
    "version": 3
   },
   "file_extension": ".py",
   "mimetype": "text/x-python",
   "name": "python",
   "nbconvert_exporter": "python",
   "pygments_lexer": "ipython3",
   "version": "3.6.5"
  }
 },
 "nbformat": 4,
 "nbformat_minor": 2
}
