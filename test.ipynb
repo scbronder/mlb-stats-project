{
 "cells": [
  {
   "cell_type": "code",
   "execution_count": 10,
   "metadata": {},
   "outputs": [
    {
     "data": {
      "text/html": [
       "<script>requirejs.config({paths: { 'plotly': ['https://cdn.plot.ly/plotly-latest.min']},});if(!window.Plotly) {{require(['plotly'],function(plotly) {window.Plotly=plotly;});}}</script>"
      ],
      "text/vnd.plotly.v1+html": [
       "<script>requirejs.config({paths: { 'plotly': ['https://cdn.plot.ly/plotly-latest.min']},});if(!window.Plotly) {{require(['plotly'],function(plotly) {window.Plotly=plotly;});}}</script>"
      ]
     },
     "metadata": {},
     "output_type": "display_data"
    },
    {
     "name": "stderr",
     "output_type": "stream",
     "text": [
      "/anaconda3/lib/python3.6/site-packages/plotly/graph_objs/_deprecations.py:558: DeprecationWarning:\n",
      "\n",
      "plotly.graph_objs.YAxis is deprecated.\n",
      "Please replace it with one of the following more specific types\n",
      "  - plotly.graph_objs.layout.YAxis\n",
      "  - plotly.graph_objs.layout.scene.YAxis\n",
      "\n",
      "\n",
      "/anaconda3/lib/python3.6/site-packages/plotly/graph_objs/_deprecations.py:531: DeprecationWarning:\n",
      "\n",
      "plotly.graph_objs.XAxis is deprecated.\n",
      "Please replace it with one of the following more specific types\n",
      "  - plotly.graph_objs.layout.XAxis\n",
      "  - plotly.graph_objs.layout.scene.XAxis\n",
      "\n",
      "\n"
     ]
    }
   ],
   "source": [
    "from console import *\n",
    "from plots import *\n",
    "import plotly as plt\n",
    "import plotly.graph_objs as go\n",
    "from plotly.offline import init_notebook_mode, iplot\n",
    "from plotly import tools\n",
    "\n",
    "init_notebook_mode(connected = True)\n",
    "\n",
    "import cufflinks as cf"
   ]
  },
  {
   "cell_type": "code",
   "execution_count": null,
   "metadata": {},
   "outputs": [],
   "source": []
  },
  {
   "cell_type": "code",
   "execution_count": null,
   "metadata": {},
   "outputs": [],
   "source": []
  },
  {
   "cell_type": "code",
   "execution_count": 2,
   "metadata": {},
   "outputs": [],
   "source": [
    "# cd = CleanData()"
   ]
  },
  {
   "cell_type": "code",
   "execution_count": 3,
   "metadata": {},
   "outputs": [],
   "source": [
    "# team_names = cd.getTeamNames()"
   ]
  },
  {
   "cell_type": "code",
   "execution_count": null,
   "metadata": {},
   "outputs": [],
   "source": []
  },
  {
   "cell_type": "code",
   "execution_count": 4,
   "metadata": {
    "scrolled": true
   },
   "outputs": [],
   "source": [
    "dsp = DefensiveStats()\n",
    "osp = OffensiveStats()"
   ]
  },
  {
   "cell_type": "code",
   "execution_count": 5,
   "metadata": {},
   "outputs": [],
   "source": [
    "#list(vars(sox_defensive_stats[0]).keys())"
   ]
  },
  {
   "cell_type": "code",
   "execution_count": 6,
   "metadata": {},
   "outputs": [],
   "source": [
    "# dsp.getDefensiveStat('era', 'Los Angeles Dodgers')\n",
    "#osp.getOffensiveStat('batting_avg', 'New York Yankees')"
   ]
  },
  {
   "cell_type": "code",
   "execution_count": 15,
   "metadata": {
    "scrolled": false
   },
   "outputs": [],
   "source": [
    "wins = osp.getOffensiveStatForEachTeamYear('batting_avg', 2017)"
   ]
  },
  {
   "cell_type": "code",
   "execution_count": 16,
   "metadata": {},
   "outputs": [
    {
     "data": {
      "application/vnd.plotly.v1+json": {
       "data": [
        {
         "type": "bar",
         "uid": "5c7fafae-e74e-11e8-bcff-9a001190b410",
         "x": [
          "Arizona Diamondbacks",
          "Atlanta Braves",
          "Baltimore Orioles",
          "Boston Red Sox",
          "Chicago Cubs",
          "Chicago White Sox",
          "Cincinnati Reds",
          "Cleveland Indians",
          "Colorado Rockies",
          "Detroit Tigers",
          "Houston Astros",
          "Kansas City Royals",
          "Los Angeles Angels",
          "Los Angeles Dodgers",
          "Miami Marlins",
          "Milwaukee Brewers",
          "Minnesota Twins",
          "New York Mets",
          "New York Yankees",
          "Oakland Athletics",
          "Philadelphia Phillies",
          "Pittsburgh Pirates",
          "San Diego Padres",
          "San Francisco Giants",
          "Seattle Mariners",
          "St. Louis Cardinals",
          "Tampa Bay Rays",
          "Texas Rangers",
          "Toronto Blue Jays",
          "Washington Nationals"
         ],
         "y": [
          0.254,
          0.263,
          0.26,
          0.258,
          0.255,
          0.256,
          0.253,
          0.263,
          0.273,
          0.258,
          0.282,
          0.259,
          0.243,
          0.249,
          0.267,
          0.249,
          0.26,
          0.25,
          0.262,
          0.246,
          0.25,
          0.244,
          0.234,
          0.249,
          0.259,
          0.256,
          0.245,
          0.244,
          0.24,
          0.266
         ]
        }
       ],
       "layout": {}
      },
      "text/html": [
       "<div id=\"9a7d805c-fc03-476a-b895-e2640d2a64b3\" style=\"height: 525px; width: 100%;\" class=\"plotly-graph-div\"></div><script type=\"text/javascript\">require([\"plotly\"], function(Plotly) { window.PLOTLYENV=window.PLOTLYENV || {};window.PLOTLYENV.BASE_URL=\"https://plot.ly\";Plotly.newPlot(\"9a7d805c-fc03-476a-b895-e2640d2a64b3\", [{\"x\": [\"Arizona Diamondbacks\", \"Atlanta Braves\", \"Baltimore Orioles\", \"Boston Red Sox\", \"Chicago Cubs\", \"Chicago White Sox\", \"Cincinnati Reds\", \"Cleveland Indians\", \"Colorado Rockies\", \"Detroit Tigers\", \"Houston Astros\", \"Kansas City Royals\", \"Los Angeles Angels\", \"Los Angeles Dodgers\", \"Miami Marlins\", \"Milwaukee Brewers\", \"Minnesota Twins\", \"New York Mets\", \"New York Yankees\", \"Oakland Athletics\", \"Philadelphia Phillies\", \"Pittsburgh Pirates\", \"San Diego Padres\", \"San Francisco Giants\", \"Seattle Mariners\", \"St. Louis Cardinals\", \"Tampa Bay Rays\", \"Texas Rangers\", \"Toronto Blue Jays\", \"Washington Nationals\"], \"y\": [0.254, 0.263, 0.26, 0.258, 0.255, 0.256, 0.253, 0.263, 0.273, 0.258, 0.282, 0.259, 0.243, 0.249, 0.267, 0.249, 0.26, 0.25, 0.262, 0.246, 0.25, 0.244, 0.234, 0.249, 0.259, 0.256, 0.245, 0.244, 0.24, 0.266], \"type\": \"bar\", \"uid\": \"5c8716e8-e74e-11e8-a385-9a001190b410\"}], {}, {\"showLink\": true, \"linkText\": \"Export to plot.ly\"})});</script>"
      ],
      "text/vnd.plotly.v1+html": [
       "<div id=\"9a7d805c-fc03-476a-b895-e2640d2a64b3\" style=\"height: 525px; width: 100%;\" class=\"plotly-graph-div\"></div><script type=\"text/javascript\">require([\"plotly\"], function(Plotly) { window.PLOTLYENV=window.PLOTLYENV || {};window.PLOTLYENV.BASE_URL=\"https://plot.ly\";Plotly.newPlot(\"9a7d805c-fc03-476a-b895-e2640d2a64b3\", [{\"x\": [\"Arizona Diamondbacks\", \"Atlanta Braves\", \"Baltimore Orioles\", \"Boston Red Sox\", \"Chicago Cubs\", \"Chicago White Sox\", \"Cincinnati Reds\", \"Cleveland Indians\", \"Colorado Rockies\", \"Detroit Tigers\", \"Houston Astros\", \"Kansas City Royals\", \"Los Angeles Angels\", \"Los Angeles Dodgers\", \"Miami Marlins\", \"Milwaukee Brewers\", \"Minnesota Twins\", \"New York Mets\", \"New York Yankees\", \"Oakland Athletics\", \"Philadelphia Phillies\", \"Pittsburgh Pirates\", \"San Diego Padres\", \"San Francisco Giants\", \"Seattle Mariners\", \"St. Louis Cardinals\", \"Tampa Bay Rays\", \"Texas Rangers\", \"Toronto Blue Jays\", \"Washington Nationals\"], \"y\": [0.254, 0.263, 0.26, 0.258, 0.255, 0.256, 0.253, 0.263, 0.273, 0.258, 0.282, 0.259, 0.243, 0.249, 0.267, 0.249, 0.26, 0.25, 0.262, 0.246, 0.25, 0.244, 0.234, 0.249, 0.259, 0.256, 0.245, 0.244, 0.24, 0.266], \"type\": \"bar\", \"uid\": \"5c8716e8-e74e-11e8-a385-9a001190b410\"}], {}, {\"showLink\": true, \"linkText\": \"Export to plot.ly\"})});</script>"
      ]
     },
     "metadata": {},
     "output_type": "display_data"
    }
   ],
   "source": [
    "data = [go.Bar(\n",
    "            x=[win[0] for win in wins],\n",
    "            y=[win[1] for win in wins]\n",
    "    )]\n",
    "iplot(data)"
   ]
  },
  {
   "cell_type": "code",
   "execution_count": null,
   "metadata": {},
   "outputs": [],
   "source": []
  }
 ],
 "metadata": {
  "kernelspec": {
   "display_name": "Python 3",
   "language": "python",
   "name": "python3"
  },
  "language_info": {
   "codemirror_mode": {
    "name": "ipython",
    "version": 3
   },
   "file_extension": ".py",
   "mimetype": "text/x-python",
   "name": "python",
   "nbconvert_exporter": "python",
   "pygments_lexer": "ipython3",
   "version": "3.6.5"
  }
 },
 "nbformat": 4,
 "nbformat_minor": 2
}
